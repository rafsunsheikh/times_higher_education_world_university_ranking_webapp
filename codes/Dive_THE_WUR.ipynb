{
 "cells": [
  {
   "cell_type": "code",
   "execution_count": 5,
   "id": "4edd0a8b",
   "metadata": {},
   "outputs": [],
   "source": [
    "import pandas as pd\n",
    "import matplotlib.pyplot as plt\n",
    "import seaborn as sns\n",
    "from statsmodels.tsa.stattools import adfuller"
   ]
  },
  {
   "cell_type": "code",
   "execution_count": 6,
   "id": "012752af",
   "metadata": {},
   "outputs": [],
   "source": [
    "df = pd.read_excel('Pillar_Results.xlsx')"
   ]
  },
  {
   "cell_type": "code",
   "execution_count": 7,
   "id": "7885c0ff",
   "metadata": {},
   "outputs": [
    {
     "data": {
      "text/html": [
       "<div>\n",
       "<style scoped>\n",
       "    .dataframe tbody tr th:only-of-type {\n",
       "        vertical-align: middle;\n",
       "    }\n",
       "\n",
       "    .dataframe tbody tr th {\n",
       "        vertical-align: top;\n",
       "    }\n",
       "\n",
       "    .dataframe thead th {\n",
       "        text-align: right;\n",
       "    }\n",
       "</style>\n",
       "<table border=\"1\" class=\"dataframe\">\n",
       "  <thead>\n",
       "    <tr style=\"text-align: right;\">\n",
       "      <th></th>\n",
       "      <th>Teaching</th>\n",
       "      <th>Research</th>\n",
       "      <th>Citations</th>\n",
       "      <th>Industry Income</th>\n",
       "      <th>International Outlook</th>\n",
       "      <th>Year</th>\n",
       "    </tr>\n",
       "  </thead>\n",
       "  <tbody>\n",
       "    <tr>\n",
       "      <th>0</th>\n",
       "      <td>30.0</td>\n",
       "      <td>35.8</td>\n",
       "      <td>79.3</td>\n",
       "      <td>61.9</td>\n",
       "      <td>84.3</td>\n",
       "      <td>2023</td>\n",
       "    </tr>\n",
       "    <tr>\n",
       "      <th>1</th>\n",
       "      <td>27.1</td>\n",
       "      <td>33.2</td>\n",
       "      <td>78.9</td>\n",
       "      <td>61.4</td>\n",
       "      <td>85.6</td>\n",
       "      <td>2022</td>\n",
       "    </tr>\n",
       "    <tr>\n",
       "      <th>2</th>\n",
       "      <td>26.2</td>\n",
       "      <td>30.5</td>\n",
       "      <td>80.7</td>\n",
       "      <td>53.0</td>\n",
       "      <td>84.2</td>\n",
       "      <td>2021</td>\n",
       "    </tr>\n",
       "    <tr>\n",
       "      <th>3</th>\n",
       "      <td>24.5</td>\n",
       "      <td>28.3</td>\n",
       "      <td>76.6</td>\n",
       "      <td>49.9</td>\n",
       "      <td>83.1</td>\n",
       "      <td>2020</td>\n",
       "    </tr>\n",
       "    <tr>\n",
       "      <th>4</th>\n",
       "      <td>23.8</td>\n",
       "      <td>26.9</td>\n",
       "      <td>74.1</td>\n",
       "      <td>57.0</td>\n",
       "      <td>82.3</td>\n",
       "      <td>2019</td>\n",
       "    </tr>\n",
       "    <tr>\n",
       "      <th>5</th>\n",
       "      <td>28.0</td>\n",
       "      <td>26.9</td>\n",
       "      <td>73.0</td>\n",
       "      <td>62.9</td>\n",
       "      <td>79.9</td>\n",
       "      <td>2018</td>\n",
       "    </tr>\n",
       "    <tr>\n",
       "      <th>6</th>\n",
       "      <td>29.3</td>\n",
       "      <td>28.5</td>\n",
       "      <td>73.5</td>\n",
       "      <td>63.7</td>\n",
       "      <td>79.8</td>\n",
       "      <td>2017</td>\n",
       "    </tr>\n",
       "    <tr>\n",
       "      <th>7</th>\n",
       "      <td>27.4</td>\n",
       "      <td>26.5</td>\n",
       "      <td>67.2</td>\n",
       "      <td>64.4</td>\n",
       "      <td>75.9</td>\n",
       "      <td>2016</td>\n",
       "    </tr>\n",
       "  </tbody>\n",
       "</table>\n",
       "</div>"
      ],
      "text/plain": [
       "   Teaching  Research  Citations  Industry Income  International Outlook  Year\n",
       "0      30.0      35.8       79.3             61.9                   84.3  2023\n",
       "1      27.1      33.2       78.9             61.4                   85.6  2022\n",
       "2      26.2      30.5       80.7             53.0                   84.2  2021\n",
       "3      24.5      28.3       76.6             49.9                   83.1  2020\n",
       "4      23.8      26.9       74.1             57.0                   82.3  2019\n",
       "5      28.0      26.9       73.0             62.9                   79.9  2018\n",
       "6      29.3      28.5       73.5             63.7                   79.8  2017\n",
       "7      27.4      26.5       67.2             64.4                   75.9  2016"
      ]
     },
     "execution_count": 7,
     "metadata": {},
     "output_type": "execute_result"
    }
   ],
   "source": [
    "df"
   ]
  },
  {
   "cell_type": "code",
   "execution_count": 8,
   "id": "13a19204",
   "metadata": {},
   "outputs": [
    {
     "data": {
      "text/plain": [
       "Text(0, 0.5, 'Pillar Scores')"
      ]
     },
     "execution_count": 8,
     "metadata": {},
     "output_type": "execute_result"
    },
    {
     "data": {
      "image/png": "[encoded data removed]",
      "text/plain": [
       "<Figure size 720x504 with 1 Axes>"
      ]
     },
     "metadata": {},
     "output_type": "display_data"
    }
   ],
   "source": [
    "plt.figure(figsize=(10,7))\n",
    "sns.set(font_scale=2)\n",
    "plt.plot(df.Year, df.Teaching, label='Teaching (30%)', linewidth=4)\n",
    "plt.plot(df.Year, df.Research, label='Research (30%)', linewidth=4)\n",
    "plt.plot(df.Year, df['Industry Income'], label='Industry Income (2.5%)', linewidth=4)\n",
    "plt.plot(df.Year, df.Citations, label='Citations (30%)', linewidth=4)\n",
    "plt.plot(df.Year, df['International Outlook'], label='International Outlook (7.5%)', linewidth=4)\n",
    "plt.legend(bbox_to_anchor=(1.05, 1), loc='upper left', borderaxespad=0)\n",
    "plt.xlabel('Year')\n",
    "plt.ylim(0,100)\n",
    "plt.ylabel('Pillar Scores')"
   ]
  },
  {
   "cell_type": "markdown",
   "id": "857583bb",
   "metadata": {},
   "source": [
    "# Teaching"
   ]
  },
  {
   "cell_type": "code",
   "execution_count": 9,
   "id": "2d21e31e",
   "metadata": {},
   "outputs": [
    {
     "name": "stdout",
     "output_type": "stream",
     "text": [
      "ADF Statistic: -2.077773\n",
      "p-value: 0.253546\n",
      "Critical Values:\n",
      "\t1%: -5.354\n",
      "\t5%: -3.646\n",
      "\t10%: -2.901\n",
      "Failed to Reject Ho - Time Series is Non-Stationary\n"
     ]
    }
   ],
   "source": [
    "series = df['Teaching'].values\n",
    "result = adfuller(series, autolag='AIC')\n",
    "\n",
    "print('ADF Statistic: %f' % result[0])\n",
    "\n",
    "print('p-value: %f' % result[1])\n",
    "\n",
    "print('Critical Values:')\n",
    "\n",
    "for key, value in result[4].items():\n",
    "    print('\\t%s: %.3f' % (key, value))\n",
    "if result[0] < result[4][\"5%\"]:\n",
    "    print (\"Reject Ho - Time Series is Stationary\")\n",
    "else:\n",
    "    print (\"Failed to Reject Ho - Time Series is Non-Stationary\")"
   ]
  },
  {
   "cell_type": "markdown",
   "id": "5a9a506e",
   "metadata": {},
   "source": [
    "# Research"
   ]
  },
  {
   "cell_type": "code",
   "execution_count": 10,
   "id": "86cd8968",
   "metadata": {},
   "outputs": [
    {
     "name": "stdout",
     "output_type": "stream",
     "text": [
      "ADF Statistic: -2.580582\n",
      "p-value: 0.097077\n",
      "Critical Values:\n",
      "\t1%: -4.939\n",
      "\t5%: -3.478\n",
      "\t10%: -2.844\n",
      "Failed to Reject Ho - Time Series is Non-Stationary\n"
     ]
    }
   ],
   "source": [
    "series = df['Research'].values\n",
    "result = adfuller(series, autolag='AIC')\n",
    "\n",
    "print('ADF Statistic: %f' % result[0])\n",
    "\n",
    "print('p-value: %f' % result[1])\n",
    "\n",
    "print('Critical Values:')\n",
    "\n",
    "for key, value in result[4].items():\n",
    "    print('\\t%s: %.3f' % (key, value))\n",
    "if result[0] < result[4][\"5%\"]:\n",
    "    print (\"Reject Ho - Time Series is Stationary\")\n",
    "else:\n",
    "    print (\"Failed to Reject Ho - Time Series is Non-Stationary\")"
   ]
  },
  {
   "cell_type": "markdown",
   "id": "dfa886e8",
   "metadata": {},
   "source": [
    "# Citations"
   ]
  },
  {
   "cell_type": "code",
   "execution_count": 12,
   "id": "07ba2c70",
   "metadata": {},
   "outputs": [
    {
     "name": "stdout",
     "output_type": "stream",
     "text": [
      "ADF Statistic: 0.283489\n",
      "p-value: 0.976574\n",
      "Critical Values:\n",
      "\t1%: -4.939\n",
      "\t5%: -3.478\n",
      "\t10%: -2.844\n",
      "Failed to Reject Ho - Time Series is Non-Stationary\n"
     ]
    }
   ],
   "source": [
    "series = df['Citations'].values\n",
    "result = adfuller(series, autolag='AIC')\n",
    "\n",
    "print('ADF Statistic: %f' % result[0])\n",
    "\n",
    "print('p-value: %f' % result[1])\n",
    "\n",
    "print('Critical Values:')\n",
    "\n",
    "for key, value in result[4].items():\n",
    "    print('\\t%s: %.3f' % (key, value))\n",
    "if result[0] < result[4][\"5%\"]:\n",
    "    print (\"Reject Ho - Time Series is Stationary\")\n",
    "else:\n",
    "    print (\"Failed to Reject Ho - Time Series is Non-Stationary\")"
   ]
  },
  {
   "cell_type": "markdown",
   "id": "5f010a78",
   "metadata": {},
   "source": [
    "# International Outlook"
   ]
  },
  {
   "cell_type": "code",
   "execution_count": 13,
   "id": "a8c69be2",
   "metadata": {},
   "outputs": [
    {
     "name": "stdout",
     "output_type": "stream",
     "text": [
      "ADF Statistic: 2.923078\n",
      "p-value: 1.000000\n",
      "Critical Values:\n",
      "\t1%: -6.045\n",
      "\t5%: -3.929\n",
      "\t10%: -2.987\n",
      "Failed to Reject Ho - Time Series is Non-Stationary\n"
     ]
    }
   ],
   "source": [
    "series = df['International Outlook'].values\n",
    "result = adfuller(series, autolag='AIC')\n",
    "\n",
    "print('ADF Statistic: %f' % result[0])\n",
    "\n",
    "print('p-value: %f' % result[1])\n",
    "\n",
    "print('Critical Values:')\n",
    "\n",
    "for key, value in result[4].items():\n",
    "    print('\\t%s: %.3f' % (key, value))\n",
    "if result[0] < result[4][\"5%\"]:\n",
    "    print (\"Reject Ho - Time Series is Stationary\")\n",
    "else:\n",
    "    print (\"Failed to Reject Ho - Time Series is Non-Stationary\")"
   ]
  },
  {
   "cell_type": "markdown",
   "id": "f0432798",
   "metadata": {},
   "source": [
    "# Industry Income"
   ]
  },
  {
   "cell_type": "code",
   "execution_count": 24,
   "id": "504d68ae",
   "metadata": {},
   "outputs": [
    {
     "name": "stdout",
     "output_type": "stream",
     "text": [
      "ADF Statistic: 0.798193\n",
      "p-value: 0.991607\n",
      "Critical Values:\n",
      "\t1%: -6.045\n",
      "\t5%: -3.929\n",
      "\t10%: -2.987\n",
      "Failed to Reject Ho - Time Series is Non-Stationary\n"
     ]
    }
   ],
   "source": [
    "series = df['Industry Income'].values\n",
    "result = adfuller(series, autolag='AIC')\n",
    "\n",
    "print('ADF Statistic: %f' % result[0])\n",
    "\n",
    "print('p-value: %f' % result[1])\n",
    "\n",
    "print('Critical Values:')\n",
    "\n",
    "for key, value in result[4].items():\n",
    "    print('\\t%s: %.3f' % (key, value))\n",
    "if result[0] < result[4][\"5%\"]:\n",
    "    print (\"Reject Ho - Time Series is Stationary\")\n",
    "else:\n",
    "    print (\"Failed to Reject Ho - Time Series is Non-Stationary\")"
   ]
  },
  {
   "cell_type": "code",
   "execution_count": null,
   "id": "55ecd539",
   "metadata": {},
   "outputs": [],
   "source": []
  }
 ],
 "metadata": {
  "kernelspec": {
   "display_name": "Python 3 (ipykernel)",
   "language": "python",
   "name": "python3"
  },
  "language_info": {
   "codemirror_mode": {
    "name": "ipython",
    "version": 3
   },
   "file_extension": ".py",
   "mimetype": "text/x-python",
   "name": "python",
   "nbconvert_exporter": "python",
   "pygments_lexer": "ipython3",
   "version": "3.9.7"
  },
  "varInspector": {
   "cols": {
    "lenName": 16,
    "lenType": 16,
    "lenVar": 40
   },
   "kernels_config": {
    "python": {
     "delete_cmd_postfix": "",
     "delete_cmd_prefix": "del ",
     "library": "var_list.py",
     "varRefreshCmd": "print(var_dic_list())"
    },
    "r": {
     "delete_cmd_postfix": ") ",
     "delete_cmd_prefix": "rm(",
     "library": "var_list.r",
     "varRefreshCmd": "cat(var_dic_list()) "
    }
   },
   "types_to_exclude": [
    "module",
    "function",
    "builtin_function_or_method",
    "instance",
    "_Feature"
   ],
   "window_display": false
  }
 },
 "nbformat": 4,
 "nbformat_minor": 5
}
